{
 "cells": [
  {
   "cell_type": "markdown",
   "metadata": {},
   "source": [
    "# Exercise 2 - First learner"
   ]
  },
  {
   "cell_type": "markdown",
   "metadata": {},
   "source": [
    "First we generate the training data that is going to be fed into our first learner. The underlying function will be:\n",
    "\n",
    "$$y(x) = sin(x) + cos(2x)$$\n",
    "\n",
    "Then an appropriate input sample $X_N$ could be within the range of $[-2\\pi, 2\\pi]$, in this case 50 samples are generated."
   ]
  },
  {
   "cell_type": "markdown",
   "metadata": {},
   "source": [
    "a) Generate a data set D with N = 50 data points utilizing the given function. Note that the data set should not be optimal due to the noise $ν ∼ N(µ, σ^2)$. Consider reasonable range for $x$ and $ν$.\n"
   ]
  },
  {
   "cell_type": "code",
   "execution_count": 1,
   "metadata": {},
   "outputs": [],
   "source": [
    "import numpy as np\n",
    "import matplotlib.pyplot as plt\n",
    "x = np.linspace(-2*np.pi,2*np.pi,50)\n",
    "y = np.sin(x) + np.cos(2*x)\n",
    "\n",
    "noise = np.random.normal(0,0.2,50)\n",
    "y_noise = y + noise"
   ]
  },
  {
   "cell_type": "markdown",
   "metadata": {},
   "source": [
    "b) Plot the function $y(x)$ and the generated data samples."
   ]
  },
  {
   "cell_type": "code",
   "execution_count": null,
   "metadata": {},
   "outputs": [],
   "source": [
    "plt.figure(figsize=(10,5))\n",
    "plt.plot(x,y,label='$y(x) = sin(x) + cos(2x)$', color='#00b1e9')\n",
    "plt.scatter(x,y_noise,label='Training set',color='#80309e')\n",
    "plt.legend()\n",
    "plt.grid()\n",
    "plt.show()"
   ]
  },
  {
   "cell_type": "markdown",
   "metadata": {},
   "source": [
    "c) Use a simple learner, e.g., a feed-forward neural network with one hidden layer to learn the model. Train the network with the dataset D and try different hidden neurons size (1, 10, 100)."
   ]
  },
  {
   "cell_type": "code",
   "execution_count": null,
   "metadata": {},
   "outputs": [],
   "source": [
    "import torch\n",
    "import torch.nn as nn"
   ]
  },
  {
   "cell_type": "markdown",
   "metadata": {},
   "source": [
    "More code..."
   ]
  },
  {
   "cell_type": "markdown",
   "metadata": {},
   "source": [
    "# Professor code"
   ]
  },
  {
   "cell_type": "markdown",
   "metadata": {},
   "source": [
    "## Imports"
   ]
  },
  {
   "cell_type": "code",
   "execution_count": null,
   "metadata": {},
   "outputs": [],
   "source": [
    "import numpy as np\n",
    "import matplotlib.pyplot as plt\n",
    "import torch\n",
    "import torch.nn as nn\n",
    "import torch.optim as optim\n",
    "\n",
    "#Seed for generating random numbers so that they will be deterministic (whats deterministic?)\n",
    "\n",
    "#torch.manual_seed(42)"
   ]
  },
  {
   "cell_type": "markdown",
   "metadata": {},
   "source": [
    "## Dataset"
   ]
  },
  {
   "cell_type": "code",
   "execution_count": null,
   "metadata": {},
   "outputs": [],
   "source": [
    "N = 50\n",
    "y = lambda x: np.sin(x) + np.cos(2*x)\n",
    "\n",
    "x_data = np.random.uniform(0, 2*np.pi, N)\n",
    "y_data = y(x_data) + np.random.normal(0, 0.1, N)"
   ]
  },
  {
   "cell_type": "markdown",
   "metadata": {},
   "source": [
    "## Plotting data"
   ]
  },
  {
   "cell_type": "code",
   "execution_count": null,
   "metadata": {},
   "outputs": [],
   "source": [
    "plt.figure()\n",
    "plt.scatter(x_data,y_data,label='Data',color='red',marker='x')\n",
    "plt.plot(np.linspace(0,2*np.pi,N),y(np.linspace(0,2*np.pi,N)),label='Function')\n",
    "plt.legend()\n",
    "plt.show()"
   ]
  },
  {
   "cell_type": "markdown",
   "metadata": {},
   "source": [
    "## Simple feed-forward neural network"
   ]
  },
  {
   "cell_type": "code",
   "execution_count": null,
   "metadata": {},
   "outputs": [],
   "source": [
    "n_hidden = 10\n",
    "epochs = 10000\n",
    "learning_rate = 0.1\n",
    "#Epochs --> How many updates do we want in our network. Few or too many updates can have a negative impact\n",
    "\n",
    "model = nn.Sequential(nn.Linear(1,n_hidden), nn.Tanh(),nn.Linear(n_hidden, 1)) #Tanh is the \"activation function\"\n",
    "\n",
    "\n",
    "criterion = nn.MSELoss()\n",
    "optimizer = optim.Adam(model.parameters(),lr=learning_rate)"
   ]
  },
  {
   "cell_type": "markdown",
   "metadata": {},
   "source": [
    "## Training the network"
   ]
  },
  {
   "cell_type": "code",
   "execution_count": null,
   "metadata": {},
   "outputs": [],
   "source": [
    "#print(x_data.shape)\n",
    "#print(x_data[:,None]) #50 individual arrays is the form that we need to train the network in pytorch\n",
    "\n",
    "x_data_tensor = torch.from_numpy(x_data[:,None]).float()\n",
    "y_data_tensor = torch.from_numpy(y_data[:,None]).float()\n",
    "\n",
    "for epoch in range(epochs):\n",
    "    optimizer.zero_grad()\n",
    "    y_pred = model(x_data_tensor)\n",
    "    loss = criterion(y_pred,y_data_tensor)\n",
    "    loss.backward()\n",
    "    optimizer.step()\n",
    "\n",
    "    if epoch % 1000 == 0:\n",
    "        print(f'Epoch {epoch}, Loss:{loss.item()}')"
   ]
  },
  {
   "cell_type": "markdown",
   "metadata": {},
   "source": [
    "## Testing trained network"
   ]
  },
  {
   "cell_type": "code",
   "execution_count": null,
   "metadata": {},
   "outputs": [],
   "source": [
    "N_test = 20\n",
    "x_test = np.linspace(0,2*np.pi, N_test)\n",
    "y_test = y(x_test)\n",
    "\n",
    "x_test_tensor = torch.from_numpy(x_test[:,None]).float()\n",
    "y_test_tensor = torch.from_numpy(y_test[:,None]).float()\n",
    "\n",
    "with torch.no_grad():\n",
    "    y_pred = model(x_test_tensor)\n",
    "    loss = criterion(y_pred, y_test_tensor)\n",
    "\n",
    "print(f'Test Loss: {loss.item()}')"
   ]
  },
  {
   "cell_type": "markdown",
   "metadata": {},
   "source": [
    "## Plotting results"
   ]
  },
  {
   "cell_type": "code",
   "execution_count": null,
   "metadata": {},
   "outputs": [],
   "source": [
    "plt.figure()\n",
    "plt.plot(x_test,y_pred.numpy(),label='Data',color='red',marker='x')\n",
    "plt.plot(np.linspace(0,2*np.pi,N),y(np.linspace(0,2*np.pi,N)),label='Function')\n",
    "plt.legend()\n",
    "plt.show()"
   ]
  }
 ],
 "metadata": {
  "kernelspec": {
   "display_name": ".venv",
   "language": "python",
   "name": "python3"
  },
  "language_info": {
   "codemirror_mode": {
    "name": "ipython",
    "version": 3
   },
   "file_extension": ".py",
   "mimetype": "text/x-python",
   "name": "python",
   "nbconvert_exporter": "python",
   "pygments_lexer": "ipython3",
   "version": "3.12.7"
  }
 },
 "nbformat": 4,
 "nbformat_minor": 2
}
